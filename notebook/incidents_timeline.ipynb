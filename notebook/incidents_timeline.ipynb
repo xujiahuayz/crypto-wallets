{
 "cells": [
  {
   "cell_type": "code",
   "execution_count": 26,
   "id": "1591fa61",
   "metadata": {},
   "outputs": [
    {
     "data": {
      "application/vnd.plotly.v1+json": {
       "config": {
        "plotlyServerURL": "https://plot.ly"
       },
       "data": [
        {
         "marker": {
          "color": [
           "#008080",
           "#008080",
           "#008080",
           "#008080",
           "#FEBE7E",
           "#008080",
           "#008080",
           "#008080",
           "#008080",
           "#008080",
           "#008080",
           "#008080",
           "#008080",
           "#FEBE7E",
           "#FEBE7E",
           "#FEBE7E",
           "#FEBE7E",
           "#FEBE7E",
           "#FEBE7E",
           "#FEBE7E",
           "#FEBE7E",
           "#FEBE7E",
           "#FEBE7E",
           "#FEBE7E",
           "#FEBE7E",
           "#FEBE7E",
           "#FEBE7E",
           "#FEBE7E",
           "#FEBE7E",
           "#FEBE7E",
           "#FEBE7E",
           "#FEBE7E",
           "#FEBE7E",
           "#FEBE7E",
           "#FEBE7E",
           "#FEBE7E",
           "#FEBE7E",
           "#FEBE7E",
           "#FEBE7E",
           "#FEBE7E",
           "#FEBE7E",
           "#FEBE7E"
          ],
          "size": [
           560,
           305,
           275,
           160,
           112.5,
           100,
           52,
           40,
           30,
           8,
           2.14,
           0.25,
           0.027,
           0,
           0,
           0,
           0,
           0,
           0,
           0,
           0,
           0,
           0,
           0,
           0,
           0,
           0,
           0,
           0,
           0,
           0,
           0,
           0,
           0,
           0,
           0,
           0,
           0,
           0,
           0,
           0,
           0
          ],
          "sizemin": 5,
          "sizemode": "area",
          "sizeref": 0.37037037037037035
         },
         "mode": "markers",
         "showlegend": false,
         "text": [
          "Date: 2018-01, Funds Lost: $560.00M",
          "Date: 2024-05, Funds Lost: $305.00M",
          "Date: 2020-09, Funds Lost: $275.00M",
          "Date: 2022-09, Funds Lost: $160.00M",
          "Date: 2024-01, Funds Lost: $112.50M",
          "Date: 2018-09, Funds Lost: $100.00M",
          "Date: 2024-09, Funds Lost: $52.00M",
          "Date: 2019-05, Funds Lost: $40.00M",
          "Date: 2022-01, Funds Lost: $30.00M",
          "Date: 2023-09, Funds Lost: $8.00M",
          "Date: 2016-05, Funds Lost: $2.14M",
          "Date: 2012-09, Funds Lost: $0.25M",
          "Date: 2019-01, Funds Lost: $0.03M",
          "Date: 2023-05, Funds Lost: $0.00M",
          "Date: 2023-01, Funds Lost: $0.00M",
          "Date: 2020-01, Funds Lost: $0.00M",
          "Date: 2022-05, Funds Lost: $0.00M",
          "Date: 2021-09, Funds Lost: $0.00M",
          "Date: 2021-05, Funds Lost: $0.00M",
          "Date: 2021-01, Funds Lost: $0.00M",
          "Date: 2025-01, Funds Lost: $0.00M",
          "Date: 2025-05, Funds Lost: $0.00M",
          "Date: 2020-05, Funds Lost: $0.00M",
          "Date: 2012-01, Funds Lost: $0.00M",
          "Date: 2019-09, Funds Lost: $0.00M",
          "Date: 2012-05, Funds Lost: $0.00M",
          "Date: 2013-01, Funds Lost: $0.00M",
          "Date: 2013-05, Funds Lost: $0.00M",
          "Date: 2013-09, Funds Lost: $0.00M",
          "Date: 2014-01, Funds Lost: $0.00M",
          "Date: 2014-05, Funds Lost: $0.00M",
          "Date: 2014-09, Funds Lost: $0.00M",
          "Date: 2015-01, Funds Lost: $0.00M",
          "Date: 2015-05, Funds Lost: $0.00M",
          "Date: 2015-09, Funds Lost: $0.00M",
          "Date: 2016-01, Funds Lost: $0.00M",
          "Date: 2016-09, Funds Lost: $0.00M",
          "Date: 2017-01, Funds Lost: $0.00M",
          "Date: 2017-05, Funds Lost: $0.00M",
          "Date: 2017-09, Funds Lost: $0.00M",
          "Date: 2018-05, Funds Lost: $0.00M",
          "Date: 2025-09, Funds Lost: $0.00M"
         ],
         "type": "scatter",
         "x": [
          "2018-01",
          "2024-05",
          "2020-09",
          "2022-09",
          "2024-01",
          "2018-09",
          "2024-09",
          "2019-05",
          "2022-01",
          "2023-09",
          "2016-05",
          "2012-09",
          "2019-01",
          "2023-05",
          "2023-01",
          "2020-01",
          "2022-05",
          "2021-09",
          "2021-05",
          "2021-01",
          "2025-01",
          "2025-05",
          "2020-05",
          "2012-01",
          "2019-09",
          "2012-05",
          "2013-01",
          "2013-05",
          "2013-09",
          "2014-01",
          "2014-05",
          "2014-09",
          "2015-01",
          "2015-05",
          "2015-09",
          "2016-01",
          "2016-09",
          "2017-01",
          "2017-05",
          "2017-09",
          "2018-05",
          "2025-09"
         ],
         "y": [
          -0.05,
          -0.05,
          -0.05,
          -0.05,
          -0.05,
          -0.05,
          -0.05,
          -0.05,
          -0.05,
          -0.05,
          -0.05,
          -0.05,
          -0.05,
          -0.05,
          -0.05,
          -0.05,
          -0.05,
          -0.05,
          -0.05,
          -0.05,
          -0.05,
          -0.05,
          -0.05,
          -0.05,
          -0.05,
          -0.05,
          -0.05,
          -0.05,
          -0.05,
          -0.05,
          -0.05,
          -0.05,
          -0.05,
          -0.05,
          -0.05,
          -0.05,
          -0.05,
          -0.05,
          -0.05,
          -0.05,
          -0.05,
          -0.05
         ]
        },
        {
         "marker": {
          "color": [
           "#008080",
           "#008080",
           "#008080",
           "#008080",
           "#008080",
           "#008080",
           "#008080",
           "#008080",
           "#FEBE7E",
           "#008080",
           "#FEBE7E",
           "#008080",
           "#008080",
           "#008080",
           "#FEBE7E",
           "#008080",
           "#008080",
           "#008080",
           "#008080",
           "#008080",
           "#FEBE7E",
           "#008080",
           "#008080",
           "#008080",
           "#FEBE7E",
           "#008080",
           "#008080",
           "#008080",
           "#008080",
           "#FEBE7E",
           "#008080",
           "#008080",
           "#FEBE7E",
           "#FEBE7E",
           "#008080",
           "#FEBE7E",
           "#FEBE7E",
           "#FEBE7E",
           "#FEBE7E",
           "#FEBE7E",
           "#FEBE7E",
           "#008080",
           "#008080",
           "#008080",
           "#FEBE7E",
           "#008080",
           "#FEBE7E",
           "#008080",
           "#008080",
           "#008080",
           "#FEBE7E",
           "#008080",
           "#008080",
           "#008080",
           "#008080",
           "#FEBE7E",
           "#FEBE7E",
           "#008080",
           "#008080",
           "#FEBE7E",
           "#008080",
           "#008080",
           "#008080"
          ],
          "size": [
           1500,
           623,
           460,
           450,
           235,
           234,
           196,
           146,
           140,
           126,
           100,
           99,
           90,
           72.5,
           66,
           60,
           55,
           50,
           49,
           40,
           37,
           36.5,
           29,
           28,
           27,
           26.1,
           23,
           22,
           16,
           16,
           13.6,
           13,
           12,
           10,
           9.5,
           9.2,
           8,
           8,
           8,
           8,
           7,
           6,
           5.7,
           5.3,
           5.1,
           5,
           5,
           4.5,
           3.5,
           3.1,
           2.3,
           2,
           1.65,
           1.4,
           1,
           0.75,
           0.65,
           0.5,
           0.23,
           0.15,
           0.1,
           0.09,
           0.05
          ],
          "sizemin": 5,
          "sizemode": "area",
          "sizeref": 0.37037037037037035
         },
         "mode": "markers",
         "showlegend": false,
         "text": [
          "Date: 2025-02, Funds Lost: $1500.00M",
          "Date: 2016-08, Funds Lost: $623.00M",
          "Date: 2014-02, Funds Lost: $460.00M",
          "Date: 2022-11, Funds Lost: $450.00M",
          "Date: 2024-07, Funds Lost: $235.00M",
          "Date: 2018-04, Funds Lost: $234.00M",
          "Date: 2021-12, Funds Lost: $196.00M",
          "Date: 2018-02, Funds Lost: $146.00M",
          "Date: 2021-12, Funds Lost: $140.00M",
          "Date: 2023-11, Funds Lost: $126.00M",
          "Date: 2023-06, Funds Lost: $100.00M",
          "Date: 2019-03, Funds Lost: $99.00M",
          "Date: 2021-08, Funds Lost: $90.00M",
          "Date: 2020-02, Funds Lost: $72.50M",
          "Date: 2023-11, Funds Lost: $66.00M",
          "Date: 2023-06, Funds Lost: $60.00M",
          "Date: 2024-06, Funds Lost: $55.00M",
          "Date: 2024-10, Funds Lost: $50.00M",
          "Date: 2019-11, Funds Lost: $49.00M",
          "Date: 2018-06, Funds Lost: $40.00M",
          "Date: 2023-10, Funds Lost: $37.00M",
          "Date: 2019-07, Funds Lost: $36.50M",
          "Date: 2019-03, Funds Lost: $29.00M",
          "Date: 2022-11, Funds Lost: $28.00M",
          "Date: 2023-11, Funds Lost: $27.00M",
          "Date: 2024-02, Funds Lost: $26.10M",
          "Date: 2023-04, Funds Lost: $23.00M",
          "Date: 2024-06, Funds Lost: $22.00M",
          "Date: 2019-02, Funds Lost: $16.00M",
          "Date: 2023-11, Funds Lost: $16.00M",
          "Date: 2023-11, Funds Lost: $13.60M",
          "Date: 2023-04, Funds Lost: $13.00M",
          "Date: 2023-11, Funds Lost: $12.00M",
          "Date: 2024-02, Funds Lost: $10.00M",
          "Date: 2019-06, Funds Lost: $9.50M",
          "Date: 2023-02, Funds Lost: $9.20M",
          "Date: 2020-12, Funds Lost: $8.00M",
          "Date: 2022-08, Funds Lost: $8.00M",
          "Date: 2022-12, Funds Lost: $8.00M",
          "Date: 2024-07, Funds Lost: $8.00M",
          "Date: 2023-10, Funds Lost: $7.00M",
          "Date: 2018-10, Funds Lost: $6.00M",
          "Date: 2021-03, Funds Lost: $5.70M",
          "Date: 2017-04, Funds Lost: $5.30M",
          "Date: 2024-02, Funds Lost: $5.10M",
          "Date: 2015-12, Funds Lost: $5.00M",
          "Date: 2024-06, Funds Lost: $5.00M",
          "Date: 2019-06, Funds Lost: $4.50M",
          "Date: 2018-04, Funds Lost: $3.50M",
          "Date: 2020-07, Funds Lost: $3.10M",
          "Date: 2020-02, Funds Lost: $2.30M",
          "Date: 2014-07, Funds Lost: $2.00M",
          "Date: 2015-08, Funds Lost: $1.65M",
          "Date: 2017-12, Funds Lost: $1.40M",
          "Date: 2019-03, Funds Lost: $1.00M",
          "Date: 2018-12, Funds Lost: $0.75M",
          "Date: 2022-04, Funds Lost: $0.65M",
          "Date: 2019-11, Funds Lost: $0.50M",
          "Date: 2016-04, Funds Lost: $0.23M",
          "Date: 2018-04, Funds Lost: $0.15M",
          "Date: 2013-11, Funds Lost: $0.10M",
          "Date: 2012-03, Funds Lost: $0.09M",
          "Date: 2014-03, Funds Lost: $0.05M"
         ],
         "type": "scatter",
         "x": [
          "2025-02",
          "2016-08",
          "2014-02",
          "2022-11",
          "2024-07",
          "2018-04",
          "2021-12",
          "2018-02",
          "2021-12",
          "2023-11",
          "2023-06",
          "2019-03",
          "2021-08",
          "2020-02",
          "2023-11",
          "2023-06",
          "2024-06",
          "2024-10",
          "2019-11",
          "2018-06",
          "2023-10",
          "2019-07",
          "2019-03",
          "2022-11",
          "2023-11",
          "2024-02",
          "2023-04",
          "2024-06",
          "2019-02",
          "2023-11",
          "2023-11",
          "2023-04",
          "2023-11",
          "2024-02",
          "2019-06",
          "2023-02",
          "2020-12",
          "2022-08",
          "2022-12",
          "2024-07",
          "2023-10",
          "2018-10",
          "2021-03",
          "2017-04",
          "2024-02",
          "2015-12",
          "2024-06",
          "2019-06",
          "2018-04",
          "2020-07",
          "2020-02",
          "2014-07",
          "2015-08",
          "2017-12",
          "2019-03",
          "2018-12",
          "2022-04",
          "2019-11",
          "2016-04",
          "2018-04",
          "2013-11",
          "2012-03",
          "2014-03"
         ],
         "y": [
          -0.05,
          -0.05,
          -0.05,
          -0.05,
          -0.05,
          -0.05,
          -0.05,
          -0.05,
          -0.05,
          -0.05,
          -0.05,
          -0.05,
          -0.05,
          -0.05,
          -0.05,
          -0.05,
          -0.05,
          -0.05,
          -0.05,
          -0.05,
          -0.05,
          -0.05,
          -0.05,
          -0.05,
          -0.05,
          -0.05,
          -0.05,
          -0.05,
          -0.05,
          -0.05,
          -0.05,
          -0.05,
          -0.05,
          -0.05,
          -0.05,
          -0.05,
          -0.05,
          -0.05,
          -0.05,
          -0.05,
          -0.05,
          -0.05,
          -0.05,
          -0.05,
          -0.05,
          -0.05,
          -0.05,
          -0.05,
          -0.05,
          -0.05,
          -0.05,
          -0.05,
          -0.05,
          -0.05,
          -0.05,
          -0.05,
          -0.05,
          -0.05,
          -0.05,
          -0.05,
          -0.05,
          -0.05,
          -0.05
         ]
        },
        {
         "marker": {
          "color": "#D3D3D3",
          "size": [
           50,
           100,
           200,
           500
          ],
          "sizemin": 5,
          "sizemode": "area",
          "sizeref": 0.37037037037037035
         },
         "mode": "markers+text",
         "showlegend": false,
         "text": [
          "50",
          "100",
          "200",
          "500"
         ],
         "textfont": {
          "color": "black",
          "size": 20
         },
         "textposition": "middle center",
         "type": "scatter",
         "x": [
          "2026-08",
          "2027-05",
          "2028-03",
          "2029-04"
         ],
         "y": [
          -0.05,
          -0.05,
          -0.05,
          -0.05
         ]
        },
        {
         "marker": {
          "color": "#008080",
          "size": 12,
          "symbol": "square"
         },
         "mode": "text+markers",
         "showlegend": false,
         "text": [
          "Custodial"
         ],
         "textfont": {
          "color": "#008080",
          "size": 16
         },
         "textposition": "middle left",
         "type": "scatter",
         "x": [
          "2029-04"
         ],
         "y": [
          0.045
         ]
        },
        {
         "marker": {
          "color": "#FEBE7E",
          "size": 12,
          "symbol": "square"
         },
         "mode": "text+markers",
         "showlegend": false,
         "text": [
          "Non Custodial"
         ],
         "textfont": {
          "color": "#FEBE7E",
          "size": 16
         },
         "textposition": "middle left",
         "type": "scatter",
         "x": [
          "2029-04"
         ],
         "y": [
          0.015
         ]
        }
       ],
       "layout": {
        "annotations": [
         {
          "font": {
           "color": "black",
           "size": 20
          },
          "showarrow": false,
          "text": "Amount Lost (M USD)",
          "x": "2028-02",
          "y": 0.025,
          "yref": "paper"
         }
        ],
        "height": 250,
        "margin": {
         "b": 0,
         "l": 0,
         "r": 0,
         "t": 0
        },
        "paper_bgcolor": "white",
        "plot_bgcolor": "white",
        "template": {
         "data": {
          "bar": [
           {
            "error_x": {
             "color": "#2a3f5f"
            },
            "error_y": {
             "color": "#2a3f5f"
            },
            "marker": {
             "line": {
              "color": "#E5ECF6",
              "width": 0.5
             },
             "pattern": {
              "fillmode": "overlay",
              "size": 10,
              "solidity": 0.2
             }
            },
            "type": "bar"
           }
          ],
          "barpolar": [
           {
            "marker": {
             "line": {
              "color": "#E5ECF6",
              "width": 0.5
             },
             "pattern": {
              "fillmode": "overlay",
              "size": 10,
              "solidity": 0.2
             }
            },
            "type": "barpolar"
           }
          ],
          "carpet": [
           {
            "aaxis": {
             "endlinecolor": "#2a3f5f",
             "gridcolor": "white",
             "linecolor": "white",
             "minorgridcolor": "white",
             "startlinecolor": "#2a3f5f"
            },
            "baxis": {
             "endlinecolor": "#2a3f5f",
             "gridcolor": "white",
             "linecolor": "white",
             "minorgridcolor": "white",
             "startlinecolor": "#2a3f5f"
            },
            "type": "carpet"
           }
          ],
          "choropleth": [
           {
            "colorbar": {
             "outlinewidth": 0,
             "ticks": ""
            },
            "type": "choropleth"
           }
          ],
          "contour": [
           {
            "colorbar": {
             "outlinewidth": 0,
             "ticks": ""
            },
            "colorscale": [
             [
              0,
              "#0d0887"
             ],
             [
              0.1111111111111111,
              "#46039f"
             ],
             [
              0.2222222222222222,
              "#7201a8"
             ],
             [
              0.3333333333333333,
              "#9c179e"
             ],
             [
              0.4444444444444444,
              "#bd3786"
             ],
             [
              0.5555555555555556,
              "#d8576b"
             ],
             [
              0.6666666666666666,
              "#ed7953"
             ],
             [
              0.7777777777777778,
              "#fb9f3a"
             ],
             [
              0.8888888888888888,
              "#fdca26"
             ],
             [
              1,
              "#f0f921"
             ]
            ],
            "type": "contour"
           }
          ],
          "contourcarpet": [
           {
            "colorbar": {
             "outlinewidth": 0,
             "ticks": ""
            },
            "type": "contourcarpet"
           }
          ],
          "heatmap": [
           {
            "colorbar": {
             "outlinewidth": 0,
             "ticks": ""
            },
            "colorscale": [
             [
              0,
              "#0d0887"
             ],
             [
              0.1111111111111111,
              "#46039f"
             ],
             [
              0.2222222222222222,
              "#7201a8"
             ],
             [
              0.3333333333333333,
              "#9c179e"
             ],
             [
              0.4444444444444444,
              "#bd3786"
             ],
             [
              0.5555555555555556,
              "#d8576b"
             ],
             [
              0.6666666666666666,
              "#ed7953"
             ],
             [
              0.7777777777777778,
              "#fb9f3a"
             ],
             [
              0.8888888888888888,
              "#fdca26"
             ],
             [
              1,
              "#f0f921"
             ]
            ],
            "type": "heatmap"
           }
          ],
          "heatmapgl": [
           {
            "colorbar": {
             "outlinewidth": 0,
             "ticks": ""
            },
            "colorscale": [
             [
              0,
              "#0d0887"
             ],
             [
              0.1111111111111111,
              "#46039f"
             ],
             [
              0.2222222222222222,
              "#7201a8"
             ],
             [
              0.3333333333333333,
              "#9c179e"
             ],
             [
              0.4444444444444444,
              "#bd3786"
             ],
             [
              0.5555555555555556,
              "#d8576b"
             ],
             [
              0.6666666666666666,
              "#ed7953"
             ],
             [
              0.7777777777777778,
              "#fb9f3a"
             ],
             [
              0.8888888888888888,
              "#fdca26"
             ],
             [
              1,
              "#f0f921"
             ]
            ],
            "type": "heatmapgl"
           }
          ],
          "histogram": [
           {
            "marker": {
             "pattern": {
              "fillmode": "overlay",
              "size": 10,
              "solidity": 0.2
             }
            },
            "type": "histogram"
           }
          ],
          "histogram2d": [
           {
            "colorbar": {
             "outlinewidth": 0,
             "ticks": ""
            },
            "colorscale": [
             [
              0,
              "#0d0887"
             ],
             [
              0.1111111111111111,
              "#46039f"
             ],
             [
              0.2222222222222222,
              "#7201a8"
             ],
             [
              0.3333333333333333,
              "#9c179e"
             ],
             [
              0.4444444444444444,
              "#bd3786"
             ],
             [
              0.5555555555555556,
              "#d8576b"
             ],
             [
              0.6666666666666666,
              "#ed7953"
             ],
             [
              0.7777777777777778,
              "#fb9f3a"
             ],
             [
              0.8888888888888888,
              "#fdca26"
             ],
             [
              1,
              "#f0f921"
             ]
            ],
            "type": "histogram2d"
           }
          ],
          "histogram2dcontour": [
           {
            "colorbar": {
             "outlinewidth": 0,
             "ticks": ""
            },
            "colorscale": [
             [
              0,
              "#0d0887"
             ],
             [
              0.1111111111111111,
              "#46039f"
             ],
             [
              0.2222222222222222,
              "#7201a8"
             ],
             [
              0.3333333333333333,
              "#9c179e"
             ],
             [
              0.4444444444444444,
              "#bd3786"
             ],
             [
              0.5555555555555556,
              "#d8576b"
             ],
             [
              0.6666666666666666,
              "#ed7953"
             ],
             [
              0.7777777777777778,
              "#fb9f3a"
             ],
             [
              0.8888888888888888,
              "#fdca26"
             ],
             [
              1,
              "#f0f921"
             ]
            ],
            "type": "histogram2dcontour"
           }
          ],
          "mesh3d": [
           {
            "colorbar": {
             "outlinewidth": 0,
             "ticks": ""
            },
            "type": "mesh3d"
           }
          ],
          "parcoords": [
           {
            "line": {
             "colorbar": {
              "outlinewidth": 0,
              "ticks": ""
             }
            },
            "type": "parcoords"
           }
          ],
          "pie": [
           {
            "automargin": true,
            "type": "pie"
           }
          ],
          "scatter": [
           {
            "fillpattern": {
             "fillmode": "overlay",
             "size": 10,
             "solidity": 0.2
            },
            "type": "scatter"
           }
          ],
          "scatter3d": [
           {
            "line": {
             "colorbar": {
              "outlinewidth": 0,
              "ticks": ""
             }
            },
            "marker": {
             "colorbar": {
              "outlinewidth": 0,
              "ticks": ""
             }
            },
            "type": "scatter3d"
           }
          ],
          "scattercarpet": [
           {
            "marker": {
             "colorbar": {
              "outlinewidth": 0,
              "ticks": ""
             }
            },
            "type": "scattercarpet"
           }
          ],
          "scattergeo": [
           {
            "marker": {
             "colorbar": {
              "outlinewidth": 0,
              "ticks": ""
             }
            },
            "type": "scattergeo"
           }
          ],
          "scattergl": [
           {
            "marker": {
             "colorbar": {
              "outlinewidth": 0,
              "ticks": ""
             }
            },
            "type": "scattergl"
           }
          ],
          "scattermapbox": [
           {
            "marker": {
             "colorbar": {
              "outlinewidth": 0,
              "ticks": ""
             }
            },
            "type": "scattermapbox"
           }
          ],
          "scatterpolar": [
           {
            "marker": {
             "colorbar": {
              "outlinewidth": 0,
              "ticks": ""
             }
            },
            "type": "scatterpolar"
           }
          ],
          "scatterpolargl": [
           {
            "marker": {
             "colorbar": {
              "outlinewidth": 0,
              "ticks": ""
             }
            },
            "type": "scatterpolargl"
           }
          ],
          "scatterternary": [
           {
            "marker": {
             "colorbar": {
              "outlinewidth": 0,
              "ticks": ""
             }
            },
            "type": "scatterternary"
           }
          ],
          "surface": [
           {
            "colorbar": {
             "outlinewidth": 0,
             "ticks": ""
            },
            "colorscale": [
             [
              0,
              "#0d0887"
             ],
             [
              0.1111111111111111,
              "#46039f"
             ],
             [
              0.2222222222222222,
              "#7201a8"
             ],
             [
              0.3333333333333333,
              "#9c179e"
             ],
             [
              0.4444444444444444,
              "#bd3786"
             ],
             [
              0.5555555555555556,
              "#d8576b"
             ],
             [
              0.6666666666666666,
              "#ed7953"
             ],
             [
              0.7777777777777778,
              "#fb9f3a"
             ],
             [
              0.8888888888888888,
              "#fdca26"
             ],
             [
              1,
              "#f0f921"
             ]
            ],
            "type": "surface"
           }
          ],
          "table": [
           {
            "cells": {
             "fill": {
              "color": "#EBF0F8"
             },
             "line": {
              "color": "white"
             }
            },
            "header": {
             "fill": {
              "color": "#C8D4E3"
             },
             "line": {
              "color": "white"
             }
            },
            "type": "table"
           }
          ]
         },
         "layout": {
          "annotationdefaults": {
           "arrowcolor": "#2a3f5f",
           "arrowhead": 0,
           "arrowwidth": 1
          },
          "autotypenumbers": "strict",
          "coloraxis": {
           "colorbar": {
            "outlinewidth": 0,
            "ticks": ""
           }
          },
          "colorscale": {
           "diverging": [
            [
             0,
             "#8e0152"
            ],
            [
             0.1,
             "#c51b7d"
            ],
            [
             0.2,
             "#de77ae"
            ],
            [
             0.3,
             "#f1b6da"
            ],
            [
             0.4,
             "#fde0ef"
            ],
            [
             0.5,
             "#f7f7f7"
            ],
            [
             0.6,
             "#e6f5d0"
            ],
            [
             0.7,
             "#b8e186"
            ],
            [
             0.8,
             "#7fbc41"
            ],
            [
             0.9,
             "#4d9221"
            ],
            [
             1,
             "#276419"
            ]
           ],
           "sequential": [
            [
             0,
             "#0d0887"
            ],
            [
             0.1111111111111111,
             "#46039f"
            ],
            [
             0.2222222222222222,
             "#7201a8"
            ],
            [
             0.3333333333333333,
             "#9c179e"
            ],
            [
             0.4444444444444444,
             "#bd3786"
            ],
            [
             0.5555555555555556,
             "#d8576b"
            ],
            [
             0.6666666666666666,
             "#ed7953"
            ],
            [
             0.7777777777777778,
             "#fb9f3a"
            ],
            [
             0.8888888888888888,
             "#fdca26"
            ],
            [
             1,
             "#f0f921"
            ]
           ],
           "sequentialminus": [
            [
             0,
             "#0d0887"
            ],
            [
             0.1111111111111111,
             "#46039f"
            ],
            [
             0.2222222222222222,
             "#7201a8"
            ],
            [
             0.3333333333333333,
             "#9c179e"
            ],
            [
             0.4444444444444444,
             "#bd3786"
            ],
            [
             0.5555555555555556,
             "#d8576b"
            ],
            [
             0.6666666666666666,
             "#ed7953"
            ],
            [
             0.7777777777777778,
             "#fb9f3a"
            ],
            [
             0.8888888888888888,
             "#fdca26"
            ],
            [
             1,
             "#f0f921"
            ]
           ]
          },
          "colorway": [
           "#636efa",
           "#EF553B",
           "#00cc96",
           "#ab63fa",
           "#FFA15A",
           "#19d3f3",
           "#FF6692",
           "#B6E880",
           "#FF97FF",
           "#FECB52"
          ],
          "font": {
           "color": "#2a3f5f"
          },
          "geo": {
           "bgcolor": "white",
           "lakecolor": "white",
           "landcolor": "#E5ECF6",
           "showlakes": true,
           "showland": true,
           "subunitcolor": "white"
          },
          "hoverlabel": {
           "align": "left"
          },
          "hovermode": "closest",
          "mapbox": {
           "style": "light"
          },
          "paper_bgcolor": "white",
          "plot_bgcolor": "#E5ECF6",
          "polar": {
           "angularaxis": {
            "gridcolor": "white",
            "linecolor": "white",
            "ticks": ""
           },
           "bgcolor": "#E5ECF6",
           "radialaxis": {
            "gridcolor": "white",
            "linecolor": "white",
            "ticks": ""
           }
          },
          "scene": {
           "xaxis": {
            "backgroundcolor": "#E5ECF6",
            "gridcolor": "white",
            "gridwidth": 2,
            "linecolor": "white",
            "showbackground": true,
            "ticks": "",
            "zerolinecolor": "white"
           },
           "yaxis": {
            "backgroundcolor": "#E5ECF6",
            "gridcolor": "white",
            "gridwidth": 2,
            "linecolor": "white",
            "showbackground": true,
            "ticks": "",
            "zerolinecolor": "white"
           },
           "zaxis": {
            "backgroundcolor": "#E5ECF6",
            "gridcolor": "white",
            "gridwidth": 2,
            "linecolor": "white",
            "showbackground": true,
            "ticks": "",
            "zerolinecolor": "white"
           }
          },
          "shapedefaults": {
           "line": {
            "color": "#2a3f5f"
           }
          },
          "ternary": {
           "aaxis": {
            "gridcolor": "white",
            "linecolor": "white",
            "ticks": ""
           },
           "baxis": {
            "gridcolor": "white",
            "linecolor": "white",
            "ticks": ""
           },
           "bgcolor": "#E5ECF6",
           "caxis": {
            "gridcolor": "white",
            "linecolor": "white",
            "ticks": ""
           }
          },
          "title": {
           "x": 0.05
          },
          "xaxis": {
           "automargin": true,
           "gridcolor": "white",
           "linecolor": "white",
           "ticks": "",
           "title": {
            "standoff": 15
           },
           "zerolinecolor": "white",
           "zerolinewidth": 2
          },
          "yaxis": {
           "automargin": true,
           "gridcolor": "white",
           "linecolor": "white",
           "ticks": "",
           "title": {
            "standoff": 15
           },
           "zerolinecolor": "white",
           "zerolinewidth": 2
          }
         }
        },
        "width": 1100,
        "xaxis": {
         "tickangle": -90,
         "tickfont": {
          "color": "black",
          "size": 16
         },
         "tickmode": "array",
         "ticktext": [
          "2012-01",
          "2012-05",
          "2012-09",
          "2013-01",
          "2013-05",
          "2013-09",
          "2014-01",
          "2014-05",
          "2014-09",
          "2015-01",
          "2015-05",
          "2015-09",
          "2016-01",
          "2016-05",
          "2016-09",
          "2017-01",
          "2017-05",
          "2017-09",
          "2018-01",
          "2018-05",
          "2018-09",
          "2019-01",
          "2019-05",
          "2019-09",
          "2020-01",
          "2020-05",
          "2020-09",
          "2021-01",
          "2021-05",
          "2021-09",
          "2022-01",
          "2022-05",
          "2022-09",
          "2023-01",
          "2023-05",
          "2023-09",
          "2024-01",
          "2024-05",
          "2024-09",
          "2025-01",
          "2025-05",
          "2025-09"
         ],
         "tickvals": [
          "2012-01",
          "2012-05",
          "2012-09",
          "2013-01",
          "2013-05",
          "2013-09",
          "2014-01",
          "2014-05",
          "2014-09",
          "2015-01",
          "2015-05",
          "2015-09",
          "2016-01",
          "2016-05",
          "2016-09",
          "2017-01",
          "2017-05",
          "2017-09",
          "2018-01",
          "2018-05",
          "2018-09",
          "2019-01",
          "2019-05",
          "2019-09",
          "2020-01",
          "2020-05",
          "2020-09",
          "2021-01",
          "2021-05",
          "2021-09",
          "2022-01",
          "2022-05",
          "2022-09",
          "2023-01",
          "2023-05",
          "2023-09",
          "2024-01",
          "2024-05",
          "2024-09",
          "2025-01",
          "2025-05",
          "2025-09"
         ],
         "title": {
          "font": {
           "color": "black",
           "size": 20
          },
          "text": "Date (Year-Month)"
         }
        },
        "yaxis": {
         "showticklabels": false,
         "title": {
          "font": {
           "color": "black",
           "size": 20
          },
          "standoff": 0,
          "text": "Loss (M USD)"
         },
         "visible": true
        }
       }
      },
      "text/html": [
       "<div>                            <div id=\"552aa122-d3ca-4ef8-ba0c-1a93bbc2e0f5\" class=\"plotly-graph-div\" style=\"height:250px; width:1100px;\"></div>            <script type=\"text/javascript\">                require([\"plotly\"], function(Plotly) {                    window.PLOTLYENV=window.PLOTLYENV || {};                                    if (document.getElementById(\"552aa122-d3ca-4ef8-ba0c-1a93bbc2e0f5\")) {                    Plotly.newPlot(                        \"552aa122-d3ca-4ef8-ba0c-1a93bbc2e0f5\",                        [{\"marker\":{\"color\":[\"#008080\",\"#008080\",\"#008080\",\"#008080\",\"#FEBE7E\",\"#008080\",\"#008080\",\"#008080\",\"#008080\",\"#008080\",\"#008080\",\"#008080\",\"#008080\",\"#FEBE7E\",\"#FEBE7E\",\"#FEBE7E\",\"#FEBE7E\",\"#FEBE7E\",\"#FEBE7E\",\"#FEBE7E\",\"#FEBE7E\",\"#FEBE7E\",\"#FEBE7E\",\"#FEBE7E\",\"#FEBE7E\",\"#FEBE7E\",\"#FEBE7E\",\"#FEBE7E\",\"#FEBE7E\",\"#FEBE7E\",\"#FEBE7E\",\"#FEBE7E\",\"#FEBE7E\",\"#FEBE7E\",\"#FEBE7E\",\"#FEBE7E\",\"#FEBE7E\",\"#FEBE7E\",\"#FEBE7E\",\"#FEBE7E\",\"#FEBE7E\",\"#FEBE7E\"],\"size\":[560.0,305.0,275.0,160.0,112.5,100.0,52.0,40.0,30.0,8.0,2.14,0.25,0.027,0.0,0.0,0.0,0.0,0.0,0.0,0.0,0.0,0.0,0.0,0.0,0.0,0.0,0.0,0.0,0.0,0.0,0.0,0.0,0.0,0.0,0.0,0.0,0.0,0.0,0.0,0.0,0.0,0.0],\"sizemin\":5,\"sizemode\":\"area\",\"sizeref\":0.37037037037037035},\"mode\":\"markers\",\"showlegend\":false,\"text\":[\"Date: 2018-01, Funds Lost: $560.00M\",\"Date: 2024-05, Funds Lost: $305.00M\",\"Date: 2020-09, Funds Lost: $275.00M\",\"Date: 2022-09, Funds Lost: $160.00M\",\"Date: 2024-01, Funds Lost: $112.50M\",\"Date: 2018-09, Funds Lost: $100.00M\",\"Date: 2024-09, Funds Lost: $52.00M\",\"Date: 2019-05, Funds Lost: $40.00M\",\"Date: 2022-01, Funds Lost: $30.00M\",\"Date: 2023-09, Funds Lost: $8.00M\",\"Date: 2016-05, Funds Lost: $2.14M\",\"Date: 2012-09, Funds Lost: $0.25M\",\"Date: 2019-01, Funds Lost: $0.03M\",\"Date: 2023-05, Funds Lost: $0.00M\",\"Date: 2023-01, Funds Lost: $0.00M\",\"Date: 2020-01, Funds Lost: $0.00M\",\"Date: 2022-05, Funds Lost: $0.00M\",\"Date: 2021-09, Funds Lost: $0.00M\",\"Date: 2021-05, Funds Lost: $0.00M\",\"Date: 2021-01, Funds Lost: $0.00M\",\"Date: 2025-01, Funds Lost: $0.00M\",\"Date: 2025-05, Funds Lost: $0.00M\",\"Date: 2020-05, Funds Lost: $0.00M\",\"Date: 2012-01, Funds Lost: $0.00M\",\"Date: 2019-09, Funds Lost: $0.00M\",\"Date: 2012-05, Funds Lost: $0.00M\",\"Date: 2013-01, Funds Lost: $0.00M\",\"Date: 2013-05, Funds Lost: $0.00M\",\"Date: 2013-09, Funds Lost: $0.00M\",\"Date: 2014-01, Funds Lost: $0.00M\",\"Date: 2014-05, Funds Lost: $0.00M\",\"Date: 2014-09, Funds Lost: $0.00M\",\"Date: 2015-01, Funds Lost: $0.00M\",\"Date: 2015-05, Funds Lost: $0.00M\",\"Date: 2015-09, Funds Lost: $0.00M\",\"Date: 2016-01, Funds Lost: $0.00M\",\"Date: 2016-09, Funds Lost: $0.00M\",\"Date: 2017-01, Funds Lost: $0.00M\",\"Date: 2017-05, Funds Lost: $0.00M\",\"Date: 2017-09, Funds Lost: $0.00M\",\"Date: 2018-05, Funds Lost: $0.00M\",\"Date: 2025-09, Funds Lost: $0.00M\"],\"x\":[\"2018-01\",\"2024-05\",\"2020-09\",\"2022-09\",\"2024-01\",\"2018-09\",\"2024-09\",\"2019-05\",\"2022-01\",\"2023-09\",\"2016-05\",\"2012-09\",\"2019-01\",\"2023-05\",\"2023-01\",\"2020-01\",\"2022-05\",\"2021-09\",\"2021-05\",\"2021-01\",\"2025-01\",\"2025-05\",\"2020-05\",\"2012-01\",\"2019-09\",\"2012-05\",\"2013-01\",\"2013-05\",\"2013-09\",\"2014-01\",\"2014-05\",\"2014-09\",\"2015-01\",\"2015-05\",\"2015-09\",\"2016-01\",\"2016-09\",\"2017-01\",\"2017-05\",\"2017-09\",\"2018-05\",\"2025-09\"],\"y\":[-0.05,-0.05,-0.05,-0.05,-0.05,-0.05,-0.05,-0.05,-0.05,-0.05,-0.05,-0.05,-0.05,-0.05,-0.05,-0.05,-0.05,-0.05,-0.05,-0.05,-0.05,-0.05,-0.05,-0.05,-0.05,-0.05,-0.05,-0.05,-0.05,-0.05,-0.05,-0.05,-0.05,-0.05,-0.05,-0.05,-0.05,-0.05,-0.05,-0.05,-0.05,-0.05],\"type\":\"scatter\"},{\"marker\":{\"color\":[\"#008080\",\"#008080\",\"#008080\",\"#008080\",\"#008080\",\"#008080\",\"#008080\",\"#008080\",\"#FEBE7E\",\"#008080\",\"#FEBE7E\",\"#008080\",\"#008080\",\"#008080\",\"#FEBE7E\",\"#008080\",\"#008080\",\"#008080\",\"#008080\",\"#008080\",\"#FEBE7E\",\"#008080\",\"#008080\",\"#008080\",\"#FEBE7E\",\"#008080\",\"#008080\",\"#008080\",\"#008080\",\"#FEBE7E\",\"#008080\",\"#008080\",\"#FEBE7E\",\"#FEBE7E\",\"#008080\",\"#FEBE7E\",\"#FEBE7E\",\"#FEBE7E\",\"#FEBE7E\",\"#FEBE7E\",\"#FEBE7E\",\"#008080\",\"#008080\",\"#008080\",\"#FEBE7E\",\"#008080\",\"#FEBE7E\",\"#008080\",\"#008080\",\"#008080\",\"#FEBE7E\",\"#008080\",\"#008080\",\"#008080\",\"#008080\",\"#FEBE7E\",\"#FEBE7E\",\"#008080\",\"#008080\",\"#FEBE7E\",\"#008080\",\"#008080\",\"#008080\"],\"size\":[1500.0,623.0,460.0,450.0,235.0,234.0,196.0,146.0,140.0,126.0,100.0,99.0,90.0,72.5,66.0,60.0,55.0,50.0,49.0,40.0,37.0,36.5,29.0,28.0,27.0,26.1,23.0,22.0,16.0,16.0,13.6,13.0,12.0,10.0,9.5,9.2,8.0,8.0,8.0,8.0,7.0,6.0,5.7,5.3,5.1,5.0,5.0,4.5,3.5,3.1,2.3,2.0,1.65,1.4,1.0,0.75,0.65,0.5,0.23,0.15,0.1,0.09,0.05],\"sizemin\":5,\"sizemode\":\"area\",\"sizeref\":0.37037037037037035},\"mode\":\"markers\",\"showlegend\":false,\"text\":[\"Date: 2025-02, Funds Lost: $1500.00M\",\"Date: 2016-08, Funds Lost: $623.00M\",\"Date: 2014-02, Funds Lost: $460.00M\",\"Date: 2022-11, Funds Lost: $450.00M\",\"Date: 2024-07, Funds Lost: $235.00M\",\"Date: 2018-04, Funds Lost: $234.00M\",\"Date: 2021-12, Funds Lost: $196.00M\",\"Date: 2018-02, Funds Lost: $146.00M\",\"Date: 2021-12, Funds Lost: $140.00M\",\"Date: 2023-11, Funds Lost: $126.00M\",\"Date: 2023-06, Funds Lost: $100.00M\",\"Date: 2019-03, Funds Lost: $99.00M\",\"Date: 2021-08, Funds Lost: $90.00M\",\"Date: 2020-02, Funds Lost: $72.50M\",\"Date: 2023-11, Funds Lost: $66.00M\",\"Date: 2023-06, Funds Lost: $60.00M\",\"Date: 2024-06, Funds Lost: $55.00M\",\"Date: 2024-10, Funds Lost: $50.00M\",\"Date: 2019-11, Funds Lost: $49.00M\",\"Date: 2018-06, Funds Lost: $40.00M\",\"Date: 2023-10, Funds Lost: $37.00M\",\"Date: 2019-07, Funds Lost: $36.50M\",\"Date: 2019-03, Funds Lost: $29.00M\",\"Date: 2022-11, Funds Lost: $28.00M\",\"Date: 2023-11, Funds Lost: $27.00M\",\"Date: 2024-02, Funds Lost: $26.10M\",\"Date: 2023-04, Funds Lost: $23.00M\",\"Date: 2024-06, Funds Lost: $22.00M\",\"Date: 2019-02, Funds Lost: $16.00M\",\"Date: 2023-11, Funds Lost: $16.00M\",\"Date: 2023-11, Funds Lost: $13.60M\",\"Date: 2023-04, Funds Lost: $13.00M\",\"Date: 2023-11, Funds Lost: $12.00M\",\"Date: 2024-02, Funds Lost: $10.00M\",\"Date: 2019-06, Funds Lost: $9.50M\",\"Date: 2023-02, Funds Lost: $9.20M\",\"Date: 2020-12, Funds Lost: $8.00M\",\"Date: 2022-08, Funds Lost: $8.00M\",\"Date: 2022-12, Funds Lost: $8.00M\",\"Date: 2024-07, Funds Lost: $8.00M\",\"Date: 2023-10, Funds Lost: $7.00M\",\"Date: 2018-10, Funds Lost: $6.00M\",\"Date: 2021-03, Funds Lost: $5.70M\",\"Date: 2017-04, Funds Lost: $5.30M\",\"Date: 2024-02, Funds Lost: $5.10M\",\"Date: 2015-12, Funds Lost: $5.00M\",\"Date: 2024-06, Funds Lost: $5.00M\",\"Date: 2019-06, Funds Lost: $4.50M\",\"Date: 2018-04, Funds Lost: $3.50M\",\"Date: 2020-07, Funds Lost: $3.10M\",\"Date: 2020-02, Funds Lost: $2.30M\",\"Date: 2014-07, Funds Lost: $2.00M\",\"Date: 2015-08, Funds Lost: $1.65M\",\"Date: 2017-12, Funds Lost: $1.40M\",\"Date: 2019-03, Funds Lost: $1.00M\",\"Date: 2018-12, Funds Lost: $0.75M\",\"Date: 2022-04, Funds Lost: $0.65M\",\"Date: 2019-11, Funds Lost: $0.50M\",\"Date: 2016-04, Funds Lost: $0.23M\",\"Date: 2018-04, Funds Lost: $0.15M\",\"Date: 2013-11, Funds Lost: $0.10M\",\"Date: 2012-03, Funds Lost: $0.09M\",\"Date: 2014-03, Funds Lost: $0.05M\"],\"x\":[\"2025-02\",\"2016-08\",\"2014-02\",\"2022-11\",\"2024-07\",\"2018-04\",\"2021-12\",\"2018-02\",\"2021-12\",\"2023-11\",\"2023-06\",\"2019-03\",\"2021-08\",\"2020-02\",\"2023-11\",\"2023-06\",\"2024-06\",\"2024-10\",\"2019-11\",\"2018-06\",\"2023-10\",\"2019-07\",\"2019-03\",\"2022-11\",\"2023-11\",\"2024-02\",\"2023-04\",\"2024-06\",\"2019-02\",\"2023-11\",\"2023-11\",\"2023-04\",\"2023-11\",\"2024-02\",\"2019-06\",\"2023-02\",\"2020-12\",\"2022-08\",\"2022-12\",\"2024-07\",\"2023-10\",\"2018-10\",\"2021-03\",\"2017-04\",\"2024-02\",\"2015-12\",\"2024-06\",\"2019-06\",\"2018-04\",\"2020-07\",\"2020-02\",\"2014-07\",\"2015-08\",\"2017-12\",\"2019-03\",\"2018-12\",\"2022-04\",\"2019-11\",\"2016-04\",\"2018-04\",\"2013-11\",\"2012-03\",\"2014-03\"],\"y\":[-0.05,-0.05,-0.05,-0.05,-0.05,-0.05,-0.05,-0.05,-0.05,-0.05,-0.05,-0.05,-0.05,-0.05,-0.05,-0.05,-0.05,-0.05,-0.05,-0.05,-0.05,-0.05,-0.05,-0.05,-0.05,-0.05,-0.05,-0.05,-0.05,-0.05,-0.05,-0.05,-0.05,-0.05,-0.05,-0.05,-0.05,-0.05,-0.05,-0.05,-0.05,-0.05,-0.05,-0.05,-0.05,-0.05,-0.05,-0.05,-0.05,-0.05,-0.05,-0.05,-0.05,-0.05,-0.05,-0.05,-0.05,-0.05,-0.05,-0.05,-0.05,-0.05,-0.05],\"type\":\"scatter\"},{\"marker\":{\"color\":\"#D3D3D3\",\"size\":[50,100,200,500],\"sizemin\":5,\"sizemode\":\"area\",\"sizeref\":0.37037037037037035},\"mode\":\"markers+text\",\"showlegend\":false,\"text\":[\"50\",\"100\",\"200\",\"500\"],\"textfont\":{\"color\":\"black\",\"size\":20},\"textposition\":\"middle center\",\"x\":[\"2026-08\",\"2027-05\",\"2028-03\",\"2029-04\"],\"y\":[-0.05,-0.05,-0.05,-0.05],\"type\":\"scatter\"},{\"marker\":{\"color\":\"#008080\",\"size\":12,\"symbol\":\"square\"},\"mode\":\"text+markers\",\"showlegend\":false,\"text\":[\"Custodial\"],\"textfont\":{\"color\":\"#008080\",\"size\":16},\"textposition\":\"middle left\",\"x\":[\"2029-04\"],\"y\":[0.045],\"type\":\"scatter\"},{\"marker\":{\"color\":\"#FEBE7E\",\"size\":12,\"symbol\":\"square\"},\"mode\":\"text+markers\",\"showlegend\":false,\"text\":[\"Non Custodial\"],\"textfont\":{\"color\":\"#FEBE7E\",\"size\":16},\"textposition\":\"middle left\",\"x\":[\"2029-04\"],\"y\":[0.015],\"type\":\"scatter\"}],                        {\"template\":{\"data\":{\"histogram2dcontour\":[{\"type\":\"histogram2dcontour\",\"colorbar\":{\"outlinewidth\":0,\"ticks\":\"\"},\"colorscale\":[[0.0,\"#0d0887\"],[0.1111111111111111,\"#46039f\"],[0.2222222222222222,\"#7201a8\"],[0.3333333333333333,\"#9c179e\"],[0.4444444444444444,\"#bd3786\"],[0.5555555555555556,\"#d8576b\"],[0.6666666666666666,\"#ed7953\"],[0.7777777777777778,\"#fb9f3a\"],[0.8888888888888888,\"#fdca26\"],[1.0,\"#f0f921\"]]}],\"choropleth\":[{\"type\":\"choropleth\",\"colorbar\":{\"outlinewidth\":0,\"ticks\":\"\"}}],\"histogram2d\":[{\"type\":\"histogram2d\",\"colorbar\":{\"outlinewidth\":0,\"ticks\":\"\"},\"colorscale\":[[0.0,\"#0d0887\"],[0.1111111111111111,\"#46039f\"],[0.2222222222222222,\"#7201a8\"],[0.3333333333333333,\"#9c179e\"],[0.4444444444444444,\"#bd3786\"],[0.5555555555555556,\"#d8576b\"],[0.6666666666666666,\"#ed7953\"],[0.7777777777777778,\"#fb9f3a\"],[0.8888888888888888,\"#fdca26\"],[1.0,\"#f0f921\"]]}],\"heatmap\":[{\"type\":\"heatmap\",\"colorbar\":{\"outlinewidth\":0,\"ticks\":\"\"},\"colorscale\":[[0.0,\"#0d0887\"],[0.1111111111111111,\"#46039f\"],[0.2222222222222222,\"#7201a8\"],[0.3333333333333333,\"#9c179e\"],[0.4444444444444444,\"#bd3786\"],[0.5555555555555556,\"#d8576b\"],[0.6666666666666666,\"#ed7953\"],[0.7777777777777778,\"#fb9f3a\"],[0.8888888888888888,\"#fdca26\"],[1.0,\"#f0f921\"]]}],\"heatmapgl\":[{\"type\":\"heatmapgl\",\"colorbar\":{\"outlinewidth\":0,\"ticks\":\"\"},\"colorscale\":[[0.0,\"#0d0887\"],[0.1111111111111111,\"#46039f\"],[0.2222222222222222,\"#7201a8\"],[0.3333333333333333,\"#9c179e\"],[0.4444444444444444,\"#bd3786\"],[0.5555555555555556,\"#d8576b\"],[0.6666666666666666,\"#ed7953\"],[0.7777777777777778,\"#fb9f3a\"],[0.8888888888888888,\"#fdca26\"],[1.0,\"#f0f921\"]]}],\"contourcarpet\":[{\"type\":\"contourcarpet\",\"colorbar\":{\"outlinewidth\":0,\"ticks\":\"\"}}],\"contour\":[{\"type\":\"contour\",\"colorbar\":{\"outlinewidth\":0,\"ticks\":\"\"},\"colorscale\":[[0.0,\"#0d0887\"],[0.1111111111111111,\"#46039f\"],[0.2222222222222222,\"#7201a8\"],[0.3333333333333333,\"#9c179e\"],[0.4444444444444444,\"#bd3786\"],[0.5555555555555556,\"#d8576b\"],[0.6666666666666666,\"#ed7953\"],[0.7777777777777778,\"#fb9f3a\"],[0.8888888888888888,\"#fdca26\"],[1.0,\"#f0f921\"]]}],\"surface\":[{\"type\":\"surface\",\"colorbar\":{\"outlinewidth\":0,\"ticks\":\"\"},\"colorscale\":[[0.0,\"#0d0887\"],[0.1111111111111111,\"#46039f\"],[0.2222222222222222,\"#7201a8\"],[0.3333333333333333,\"#9c179e\"],[0.4444444444444444,\"#bd3786\"],[0.5555555555555556,\"#d8576b\"],[0.6666666666666666,\"#ed7953\"],[0.7777777777777778,\"#fb9f3a\"],[0.8888888888888888,\"#fdca26\"],[1.0,\"#f0f921\"]]}],\"mesh3d\":[{\"type\":\"mesh3d\",\"colorbar\":{\"outlinewidth\":0,\"ticks\":\"\"}}],\"scatter\":[{\"fillpattern\":{\"fillmode\":\"overlay\",\"size\":10,\"solidity\":0.2},\"type\":\"scatter\"}],\"parcoords\":[{\"type\":\"parcoords\",\"line\":{\"colorbar\":{\"outlinewidth\":0,\"ticks\":\"\"}}}],\"scatterpolargl\":[{\"type\":\"scatterpolargl\",\"marker\":{\"colorbar\":{\"outlinewidth\":0,\"ticks\":\"\"}}}],\"bar\":[{\"error_x\":{\"color\":\"#2a3f5f\"},\"error_y\":{\"color\":\"#2a3f5f\"},\"marker\":{\"line\":{\"color\":\"#E5ECF6\",\"width\":0.5},\"pattern\":{\"fillmode\":\"overlay\",\"size\":10,\"solidity\":0.2}},\"type\":\"bar\"}],\"scattergeo\":[{\"type\":\"scattergeo\",\"marker\":{\"colorbar\":{\"outlinewidth\":0,\"ticks\":\"\"}}}],\"scatterpolar\":[{\"type\":\"scatterpolar\",\"marker\":{\"colorbar\":{\"outlinewidth\":0,\"ticks\":\"\"}}}],\"histogram\":[{\"marker\":{\"pattern\":{\"fillmode\":\"overlay\",\"size\":10,\"solidity\":0.2}},\"type\":\"histogram\"}],\"scattergl\":[{\"type\":\"scattergl\",\"marker\":{\"colorbar\":{\"outlinewidth\":0,\"ticks\":\"\"}}}],\"scatter3d\":[{\"type\":\"scatter3d\",\"line\":{\"colorbar\":{\"outlinewidth\":0,\"ticks\":\"\"}},\"marker\":{\"colorbar\":{\"outlinewidth\":0,\"ticks\":\"\"}}}],\"scattermapbox\":[{\"type\":\"scattermapbox\",\"marker\":{\"colorbar\":{\"outlinewidth\":0,\"ticks\":\"\"}}}],\"scatterternary\":[{\"type\":\"scatterternary\",\"marker\":{\"colorbar\":{\"outlinewidth\":0,\"ticks\":\"\"}}}],\"scattercarpet\":[{\"type\":\"scattercarpet\",\"marker\":{\"colorbar\":{\"outlinewidth\":0,\"ticks\":\"\"}}}],\"carpet\":[{\"aaxis\":{\"endlinecolor\":\"#2a3f5f\",\"gridcolor\":\"white\",\"linecolor\":\"white\",\"minorgridcolor\":\"white\",\"startlinecolor\":\"#2a3f5f\"},\"baxis\":{\"endlinecolor\":\"#2a3f5f\",\"gridcolor\":\"white\",\"linecolor\":\"white\",\"minorgridcolor\":\"white\",\"startlinecolor\":\"#2a3f5f\"},\"type\":\"carpet\"}],\"table\":[{\"cells\":{\"fill\":{\"color\":\"#EBF0F8\"},\"line\":{\"color\":\"white\"}},\"header\":{\"fill\":{\"color\":\"#C8D4E3\"},\"line\":{\"color\":\"white\"}},\"type\":\"table\"}],\"barpolar\":[{\"marker\":{\"line\":{\"color\":\"#E5ECF6\",\"width\":0.5},\"pattern\":{\"fillmode\":\"overlay\",\"size\":10,\"solidity\":0.2}},\"type\":\"barpolar\"}],\"pie\":[{\"automargin\":true,\"type\":\"pie\"}]},\"layout\":{\"autotypenumbers\":\"strict\",\"colorway\":[\"#636efa\",\"#EF553B\",\"#00cc96\",\"#ab63fa\",\"#FFA15A\",\"#19d3f3\",\"#FF6692\",\"#B6E880\",\"#FF97FF\",\"#FECB52\"],\"font\":{\"color\":\"#2a3f5f\"},\"hovermode\":\"closest\",\"hoverlabel\":{\"align\":\"left\"},\"paper_bgcolor\":\"white\",\"plot_bgcolor\":\"#E5ECF6\",\"polar\":{\"bgcolor\":\"#E5ECF6\",\"angularaxis\":{\"gridcolor\":\"white\",\"linecolor\":\"white\",\"ticks\":\"\"},\"radialaxis\":{\"gridcolor\":\"white\",\"linecolor\":\"white\",\"ticks\":\"\"}},\"ternary\":{\"bgcolor\":\"#E5ECF6\",\"aaxis\":{\"gridcolor\":\"white\",\"linecolor\":\"white\",\"ticks\":\"\"},\"baxis\":{\"gridcolor\":\"white\",\"linecolor\":\"white\",\"ticks\":\"\"},\"caxis\":{\"gridcolor\":\"white\",\"linecolor\":\"white\",\"ticks\":\"\"}},\"coloraxis\":{\"colorbar\":{\"outlinewidth\":0,\"ticks\":\"\"}},\"colorscale\":{\"sequential\":[[0.0,\"#0d0887\"],[0.1111111111111111,\"#46039f\"],[0.2222222222222222,\"#7201a8\"],[0.3333333333333333,\"#9c179e\"],[0.4444444444444444,\"#bd3786\"],[0.5555555555555556,\"#d8576b\"],[0.6666666666666666,\"#ed7953\"],[0.7777777777777778,\"#fb9f3a\"],[0.8888888888888888,\"#fdca26\"],[1.0,\"#f0f921\"]],\"sequentialminus\":[[0.0,\"#0d0887\"],[0.1111111111111111,\"#46039f\"],[0.2222222222222222,\"#7201a8\"],[0.3333333333333333,\"#9c179e\"],[0.4444444444444444,\"#bd3786\"],[0.5555555555555556,\"#d8576b\"],[0.6666666666666666,\"#ed7953\"],[0.7777777777777778,\"#fb9f3a\"],[0.8888888888888888,\"#fdca26\"],[1.0,\"#f0f921\"]],\"diverging\":[[0,\"#8e0152\"],[0.1,\"#c51b7d\"],[0.2,\"#de77ae\"],[0.3,\"#f1b6da\"],[0.4,\"#fde0ef\"],[0.5,\"#f7f7f7\"],[0.6,\"#e6f5d0\"],[0.7,\"#b8e186\"],[0.8,\"#7fbc41\"],[0.9,\"#4d9221\"],[1,\"#276419\"]]},\"xaxis\":{\"gridcolor\":\"white\",\"linecolor\":\"white\",\"ticks\":\"\",\"title\":{\"standoff\":15},\"zerolinecolor\":\"white\",\"automargin\":true,\"zerolinewidth\":2},\"yaxis\":{\"gridcolor\":\"white\",\"linecolor\":\"white\",\"ticks\":\"\",\"title\":{\"standoff\":15},\"zerolinecolor\":\"white\",\"automargin\":true,\"zerolinewidth\":2},\"scene\":{\"xaxis\":{\"backgroundcolor\":\"#E5ECF6\",\"gridcolor\":\"white\",\"linecolor\":\"white\",\"showbackground\":true,\"ticks\":\"\",\"zerolinecolor\":\"white\",\"gridwidth\":2},\"yaxis\":{\"backgroundcolor\":\"#E5ECF6\",\"gridcolor\":\"white\",\"linecolor\":\"white\",\"showbackground\":true,\"ticks\":\"\",\"zerolinecolor\":\"white\",\"gridwidth\":2},\"zaxis\":{\"backgroundcolor\":\"#E5ECF6\",\"gridcolor\":\"white\",\"linecolor\":\"white\",\"showbackground\":true,\"ticks\":\"\",\"zerolinecolor\":\"white\",\"gridwidth\":2}},\"shapedefaults\":{\"line\":{\"color\":\"#2a3f5f\"}},\"annotationdefaults\":{\"arrowcolor\":\"#2a3f5f\",\"arrowhead\":0,\"arrowwidth\":1},\"geo\":{\"bgcolor\":\"white\",\"landcolor\":\"#E5ECF6\",\"subunitcolor\":\"white\",\"showland\":true,\"showlakes\":true,\"lakecolor\":\"white\"},\"title\":{\"x\":0.05},\"mapbox\":{\"style\":\"light\"}}},\"annotations\":[{\"font\":{\"color\":\"black\",\"size\":20},\"showarrow\":false,\"text\":\"Amount Lost (M USD)\",\"x\":\"2028-02\",\"y\":0.025,\"yref\":\"paper\"}],\"xaxis\":{\"tickfont\":{\"size\":16,\"color\":\"black\"},\"title\":{\"text\":\"Date (Year-Month)\",\"font\":{\"size\":20,\"color\":\"black\"}},\"tickmode\":\"array\",\"tickvals\":[\"2012-01\",\"2012-05\",\"2012-09\",\"2013-01\",\"2013-05\",\"2013-09\",\"2014-01\",\"2014-05\",\"2014-09\",\"2015-01\",\"2015-05\",\"2015-09\",\"2016-01\",\"2016-05\",\"2016-09\",\"2017-01\",\"2017-05\",\"2017-09\",\"2018-01\",\"2018-05\",\"2018-09\",\"2019-01\",\"2019-05\",\"2019-09\",\"2020-01\",\"2020-05\",\"2020-09\",\"2021-01\",\"2021-05\",\"2021-09\",\"2022-01\",\"2022-05\",\"2022-09\",\"2023-01\",\"2023-05\",\"2023-09\",\"2024-01\",\"2024-05\",\"2024-09\",\"2025-01\",\"2025-05\",\"2025-09\"],\"ticktext\":[\"2012-01\",\"2012-05\",\"2012-09\",\"2013-01\",\"2013-05\",\"2013-09\",\"2014-01\",\"2014-05\",\"2014-09\",\"2015-01\",\"2015-05\",\"2015-09\",\"2016-01\",\"2016-05\",\"2016-09\",\"2017-01\",\"2017-05\",\"2017-09\",\"2018-01\",\"2018-05\",\"2018-09\",\"2019-01\",\"2019-05\",\"2019-09\",\"2020-01\",\"2020-05\",\"2020-09\",\"2021-01\",\"2021-05\",\"2021-09\",\"2022-01\",\"2022-05\",\"2022-09\",\"2023-01\",\"2023-05\",\"2023-09\",\"2024-01\",\"2024-05\",\"2024-09\",\"2025-01\",\"2025-05\",\"2025-09\"],\"tickangle\":-90},\"yaxis\":{\"title\":{\"text\":\"Loss (M USD)\",\"font\":{\"size\":20,\"color\":\"black\"},\"standoff\":0},\"visible\":true,\"showticklabels\":false},\"margin\":{\"l\":0,\"r\":0,\"t\":0,\"b\":0},\"paper_bgcolor\":\"white\",\"plot_bgcolor\":\"white\",\"height\":250,\"width\":1100},                        {\"responsive\": true}                    ).then(function(){\n",
       "                            \n",
       "var gd = document.getElementById('552aa122-d3ca-4ef8-ba0c-1a93bbc2e0f5');\n",
       "var x = new MutationObserver(function (mutations, observer) {{\n",
       "        var display = window.getComputedStyle(gd).display;\n",
       "        if (!display || display === 'none') {{\n",
       "            console.log([gd, 'removed!']);\n",
       "            Plotly.purge(gd);\n",
       "            observer.disconnect();\n",
       "        }}\n",
       "}});\n",
       "\n",
       "// Listen for the removal of the full notebook cells\n",
       "var notebookContainer = gd.closest('#notebook-container');\n",
       "if (notebookContainer) {{\n",
       "    x.observe(notebookContainer, {childList: true});\n",
       "}}\n",
       "\n",
       "// Listen for the clearing of the current output cell\n",
       "var outputEl = gd.closest('.output');\n",
       "if (outputEl) {{\n",
       "    x.observe(outputEl, {childList: true});\n",
       "}}\n",
       "\n",
       "                        })                };                });            </script>        </div>"
      ]
     },
     "metadata": {},
     "output_type": "display_data"
    }
   ],
   "source": [
    "import pandas as pd\n",
    "import plotly.graph_objects as go\n",
    "\n",
    "# Load the CSV file\n",
    "file_path = 'incidents.csv'  # Update with the correct file path if necessary\n",
    "df = pd.read_csv(file_path)\n",
    "\n",
    "# Data cleaning: Convert 'Funds Lost' to numeric and 'Date' to datetime\n",
    "df['Funds Lost'] = df['Funds Lost'].str.replace(',', '').astype(float)\n",
    "df['Date'] = pd.to_datetime(df['Date'], dayfirst=True)\n",
    "\n",
    "# Generate four‑month intervals for each year to create period labels\n",
    "df['Year'] = df['Date'].dt.year\n",
    "df['Month'] = df['Date'].dt.month\n",
    "df['Quarter'] = (df['Month'] - 1) // 4\n",
    "df['Year-Month'] = (\n",
    "    df['Year'].astype(str) + '-'\n",
    "    + df['Quarter'].map({0: '01', 1: '05', 2: '09'})\n",
    ")\n",
    "df = df.sort_values(by=['Year', 'Quarter'])\n",
    "df['Year-Month-Full'] = df['Date'].dt.strftime('%Y-%m')\n",
    "\n",
    "# Ensure the dataset has a \"Custody\" column; if not, default all rows to \"Non-Custodial\"\n",
    "if 'Custody' not in df.columns:\n",
    "    df['Custody'] = \"Non-Custodial\"\n",
    "\n",
    "# Separate the data into four‑month intervals and intermediate months\n",
    "mask = df['Month'].isin([1, 5, 9])\n",
    "four_df = df[mask].drop_duplicates(subset=['Year-Month'], keep='first').copy()\n",
    "inter_df = df[~mask].copy()\n",
    "\n",
    "# Generate a full range of period labels from min to max year\n",
    "all_periods = pd.date_range(\n",
    "    start=f\"{df['Year'].min()}-01\",\n",
    "    end=f\"{df['Year'].max()}-12\",\n",
    "    freq='4M'\n",
    ").strftime('%Y-%m').tolist()\n",
    "base = pd.DataFrame({'Year-Month': all_periods})\n",
    "\n",
    "# Merge & sort (Code A approach)\n",
    "full_df = (\n",
    "    base\n",
    "    .merge(four_df, on='Year-Month', how='left')\n",
    "    .fillna({'Funds Lost': 0, 'Custody': \"Non-Custodial\"})\n",
    "    .sort_values(by='Funds Lost', ascending=False)\n",
    ")\n",
    "inter_df = inter_df.sort_values(by='Funds Lost', ascending=False)\n",
    "\n",
    "# Sizeref calculation (bubbles sized in M USD)\n",
    "max_f = df['Funds Lost'].max() / 1e6\n",
    "sizeref = 2. * max_f / (90**2)\n",
    "\n",
    "# Colours\n",
    "cust_col = \"#008080\"\n",
    "noncust_col = \"#FEBE7E\"\n",
    "colors_full = [cust_col if c == \"Custodial\" else noncust_col for c in full_df['Custody']]\n",
    "colors_int  = [cust_col if c == \"Custodial\" else noncust_col for c in inter_df['Custody']]\n",
    "\n",
    "# Build figure\n",
    "fig = go.Figure()\n",
    "y0 = -0.05\n",
    "\n",
    "# Four‑month bubbles\n",
    "fig.add_trace(go.Scatter(\n",
    "    x=full_df['Year-Month'], y=[y0]*len(full_df),\n",
    "    mode='markers',\n",
    "    marker=dict(\n",
    "        size=full_df['Funds Lost'] / 1e6,\n",
    "        sizemode='area', sizeref=sizeref, sizemin=5,\n",
    "        color=colors_full\n",
    "    ),\n",
    "    text=[\n",
    "        f\"Date: {ym}, Funds Lost: ${fund:.2f}M\"\n",
    "        for ym, fund in zip(full_df['Year-Month'], full_df['Funds Lost'] / 1e6)\n",
    "    ],\n",
    "    showlegend=False\n",
    "))\n",
    "\n",
    "# Intermediate bubbles\n",
    "fig.add_trace(go.Scatter(\n",
    "    x=inter_df['Year-Month-Full'], y=[y0]*len(inter_df),\n",
    "    mode='markers',\n",
    "    marker=dict(\n",
    "        size=inter_df['Funds Lost'] / 1e6,\n",
    "        sizemode='area', sizeref=sizeref, sizemin=5,\n",
    "        color=colors_int\n",
    "    ),\n",
    "    text=[\n",
    "        f\"Date: {ym}, Funds Lost: ${fund:.2f}M\"\n",
    "        for ym, fund in zip(inter_df['Year-Month-Full'], inter_df['Funds Lost'] / 1e6)\n",
    "    ],\n",
    "    showlegend=False\n",
    "))\n",
    "\n",
    "# Custom bubble-size legend\n",
    "legend_x = ['2026-08', '2027-05', '2028-03', '2029-04']\n",
    "legend_sz = [50, 100, 200, 500]\n",
    "legend_lbl= ['50', '100', '200', '500']\n",
    "\n",
    "fig.add_trace(go.Scatter(\n",
    "    x=legend_x, y=[y0]*len(legend_x),\n",
    "    mode='markers+text',\n",
    "    marker=dict(\n",
    "        size=legend_sz, sizemode='area', sizeref=sizeref, sizemin=5,\n",
    "        color=\"#D3D3D3\"\n",
    "#         4d4d4d\n",
    "    ),\n",
    "    text=legend_lbl,\n",
    "    textposition='middle center',\n",
    "    textfont=dict(size=20, color='black'),\n",
    "    showlegend=False\n",
    "))\n",
    "\n",
    "# \"Amount Lost\" annotation\n",
    "fig.add_annotation(\n",
    "    x='2028-02', y=0.025, yref='paper',\n",
    "    text=\"Amount Lost (M USD)\",\n",
    "    showarrow=False,\n",
    "    font=dict(size=20, color='black')\n",
    ")\n",
    "\n",
    "# ——— Custody labels with square icons to the right of text ———\n",
    "label_y = -0.355\n",
    "\n",
    "# Custodial\n",
    "fig.add_trace(go.Scatter(\n",
    "    x=[\"2029-04\"], y=[0.045],\n",
    "    mode='text+markers',\n",
    "    text=[\"Custodial\"],\n",
    "    textposition='middle left',      # text on left, marker on right\n",
    "    textfont=dict(size=16, color=cust_col),\n",
    "    marker=dict(symbol='square', size=12, color=cust_col),\n",
    "    showlegend=False\n",
    "))\n",
    "\n",
    "# Non‑Custodial\n",
    "fig.add_trace(go.Scatter(\n",
    "    x=[\"2029-04\"], y=[0.015],\n",
    "    mode='text+markers',\n",
    "    text=[\"Non Custodial\"],\n",
    "    textposition='middle left',\n",
    "    textfont=dict(size=16, color=noncust_col),\n",
    "    marker=dict(symbol='square', size=12, color=noncust_col),\n",
    "    showlegend=False\n",
    "))\n",
    "# ————————————————————————————————————————————————————————————\n",
    "\n",
    "# Layout\n",
    "fig.update_layout(\n",
    "    xaxis=dict(\n",
    "        title='Date (Year-Month)',\n",
    "        tickmode='array', tickvals=all_periods, ticktext=all_periods,\n",
    "        tickangle=-90, tickfont=dict(size=16, color='black'),\n",
    "        titlefont=dict(size=20, color='black')\n",
    "    ),\n",
    "    yaxis=dict(\n",
    "        title='Loss (M USD)', visible=True, showticklabels=False,\n",
    "        titlefont=dict(size=20, color='black'), title_standoff=0\n",
    "    ),\n",
    "    paper_bgcolor='white', plot_bgcolor='white',\n",
    "    height=250, width=1100,\n",
    "    margin=dict(l=0, r=0, t=0, b=0)\n",
    ")\n",
    "\n",
    "# Save & show\n",
    "fig.write_image(\"Timeline_of_Wallet_Hacks.pdf\", format='pdf', engine='kaleido', scale=8)\n",
    "\n",
    "fig.show()\n",
    "\n",
    "\n"
   ]
  }
 ],
 "metadata": {
  "kernelspec": {
   "display_name": "Python 3 (ipykernel)",
   "language": "python",
   "name": "python3"
  },
  "language_info": {
   "codemirror_mode": {
    "name": "ipython",
    "version": 3
   },
   "file_extension": ".py",
   "mimetype": "text/x-python",
   "name": "python",
   "nbconvert_exporter": "python",
   "pygments_lexer": "ipython3",
   "version": "3.9.13"
  }
 },
 "nbformat": 4,
 "nbformat_minor": 5
}
